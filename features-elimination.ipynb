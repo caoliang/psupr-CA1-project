{
 "cells": [
  {
   "cell_type": "markdown",
   "metadata": {},
   "source": [
    "# Features Deduction - FIFA 2019 Data"
   ]
  },
  {
   "cell_type": "code",
   "execution_count": 137,
   "metadata": {},
   "outputs": [],
   "source": [
    "import numpy as np\n",
    "import pandas as pd\n",
    "import matplotlib.pyplot as plt\n",
    "import warnings\n",
    "import math\n",
    "import re\n",
    "warnings.filterwarnings('ignore')\n",
    "%matplotlib inline"
   ]
  },
  {
   "cell_type": "code",
   "execution_count": 138,
   "metadata": {},
   "outputs": [
    {
     "name": "stdout",
     "output_type": "stream",
     "text": [
      "X:  (3563, 56)\n"
     ]
    }
   ],
   "source": [
    "# Read original data\n",
    "sample_data = pd.read_csv('fifa19_ready_data.csv', encoding='utf-8')\n",
    "# Remove ID\n",
    "sample_data = sample_data.drop('ID', axis=1)\n",
    "# Separate internation rating result with rest\n",
    "y = sample_data['International Reputation']\n",
    "X = sample_data.drop('International Reputation', axis=1)\n",
    "print('X: ', X.shape)"
   ]
  },
  {
   "cell_type": "markdown",
   "metadata": {},
   "source": [
    "# Step 1. Remove Features with low variance"
   ]
  },
  {
   "cell_type": "code",
   "execution_count": 139,
   "metadata": {},
   "outputs": [
    {
     "name": "stdout",
     "output_type": "stream",
     "text": [
      "X:  (3563, 56)\n"
     ]
    }
   ],
   "source": [
    "from sklearn.feature_selection import VarianceThreshold\n",
    "\n",
    "sel = VarianceThreshold(threshold = (0.8 * (1 - 0.8)))\n",
    "sel.fit_transform(X)\n",
    "print('X: ', X.shape)"
   ]
  },
  {
   "cell_type": "code",
   "execution_count": 140,
   "metadata": {},
   "outputs": [],
   "source": [
    "# Low variance feature is not found, so no feature is removed "
   ]
  },
  {
   "cell_type": "markdown",
   "metadata": {},
   "source": [
    "# Step 2. Remove Features with high correlation"
   ]
  },
  {
   "cell_type": "code",
   "execution_count": 141,
   "metadata": {},
   "outputs": [],
   "source": [
    "# Compute correlation and show\n",
    "def compute_correlation(df, show=False):\n",
    "    colnames = list(df.columns)\n",
    "    corm = df.corr(method='pearson')\n",
    "    corm_df = pd.DataFrame(np.round(corm, decimals=2),index=colnames,columns=colnames)\n",
    "    \n",
    "    if show:\n",
    "        print('Correlation Matrix: ')\n",
    "        print(corm_df, '\\n')\n",
    "        print()\n",
    "    \n",
    "    return corm_df"
   ]
  },
  {
   "cell_type": "code",
   "execution_count": 142,
   "metadata": {},
   "outputs": [],
   "source": [
    "def show_high_correlation(df, threshold=0.9, max_cols=0):\n",
    "    # Show correlation value > threshold or < -threshold which are high correlations\n",
    "    high_corr_df = df[ (df > threshold) | (df < -threshold) ]\n",
    "    print('high_corr_df: ', high_corr_df.shape)\n",
    "    start_i = 0\n",
    "    end_i = 5\n",
    "\n",
    "    total_cols = max_cols if max_cols > 0 else high_corr_df.shape[1]\n",
    "    if end_i > total_cols:\n",
    "        end_i = total_cols\n",
    "    \n",
    "    for i in range(high_corr_df.shape[1]):\n",
    "        high_corr_df.iloc[i, i] = np.nan\n",
    "\n",
    "    high_corr_df = high_corr_df.dropna(how='all', axis=0)\n",
    "    high_corr_df = high_corr_df.dropna(how='all', axis=1)\n",
    "\n",
    "\n",
    "    while end_i < total_cols:\n",
    "        curr_high_corr_df = high_corr_df.iloc[:, start_i : end_i]\n",
    "        if not curr_high_corr_df.empty:\n",
    "            print(curr_high_corr_df, '\\n')\n",
    "        \n",
    "        start_i = end_i\n",
    "        end_i += 5\n",
    "        if start_i < high_corr_df.shape[1] - 1 and end_i > high_corr_df.shape[1] - 1:\n",
    "            end_i = high_corr_df.shape[1] - 1\n",
    "\n",
    "    print()"
   ]
  },
  {
   "cell_type": "code",
   "execution_count": 143,
   "metadata": {},
   "outputs": [],
   "source": [
    "# Compute correlation \n",
    "corr_df = compute_correlation(X)"
   ]
  },
  {
   "cell_type": "code",
   "execution_count": 144,
   "metadata": {},
   "outputs": [
    {
     "name": "stdout",
     "output_type": "stream",
     "text": [
      "high_corr_df:  (56, 56)\n",
      "                Special    ST    RS    RF    RW\n",
      "Special             NaN   NaN   NaN   NaN   NaN\n",
      "ST                  NaN   NaN  1.00  0.97  0.93\n",
      "RS                  NaN  1.00   NaN  0.97  0.93\n",
      "RF                  NaN  0.97  0.97   NaN  0.99\n",
      "RW                  NaN  0.93  0.93  0.99   NaN\n",
      "RAM                 NaN  0.93  0.93  0.99  0.98\n",
      "RCM                0.94   NaN   NaN   NaN   NaN\n",
      "RM                  NaN   NaN   NaN  0.97  0.99\n",
      "RDM                 NaN   NaN   NaN   NaN   NaN\n",
      "RWB                 NaN   NaN   NaN   NaN   NaN\n",
      "RCB                 NaN   NaN   NaN   NaN   NaN\n",
      "RB                  NaN   NaN   NaN   NaN   NaN\n",
      "ShortPassing        NaN   NaN   NaN   NaN   NaN\n",
      "Dribbling           NaN   NaN   NaN  0.91  0.94\n",
      "BallControl         NaN   NaN   NaN   NaN   NaN\n",
      "Interceptions       NaN   NaN   NaN   NaN   NaN\n",
      "StandingTackle      NaN   NaN   NaN   NaN   NaN\n",
      "SlidingTackle       NaN   NaN   NaN   NaN   NaN \n",
      "\n",
      "                 RAM   RCM    RM   RDM   RWB\n",
      "Special          NaN  0.94   NaN   NaN   NaN\n",
      "ST              0.93   NaN   NaN   NaN   NaN\n",
      "RS              0.93   NaN   NaN   NaN   NaN\n",
      "RF              0.99   NaN  0.97   NaN   NaN\n",
      "RW              0.98   NaN  0.99   NaN   NaN\n",
      "RAM              NaN   NaN  0.98   NaN   NaN\n",
      "RCM              NaN   NaN   NaN   NaN   NaN\n",
      "RM              0.98   NaN   NaN   NaN   NaN\n",
      "RDM              NaN   NaN   NaN   NaN  0.95\n",
      "RWB              NaN   NaN   NaN  0.95   NaN\n",
      "RCB              NaN   NaN   NaN  0.93   NaN\n",
      "RB               NaN   NaN   NaN  0.97  0.98\n",
      "ShortPassing     NaN  0.92   NaN   NaN   NaN\n",
      "Dribbling       0.91   NaN  0.92   NaN   NaN\n",
      "BallControl     0.92   NaN  0.92   NaN   NaN\n",
      "Interceptions    NaN   NaN   NaN   NaN   NaN\n",
      "StandingTackle   NaN   NaN   NaN   NaN   NaN\n",
      "SlidingTackle    NaN   NaN   NaN   NaN   NaN \n",
      "\n",
      "                 RCB    RB  ShortPassing  Dribbling  BallControl\n",
      "Special          NaN   NaN           NaN        NaN          NaN\n",
      "ST               NaN   NaN           NaN        NaN          NaN\n",
      "RS               NaN   NaN           NaN        NaN          NaN\n",
      "RF               NaN   NaN           NaN       0.91          NaN\n",
      "RW               NaN   NaN           NaN       0.94          NaN\n",
      "RAM              NaN   NaN           NaN       0.91         0.92\n",
      "RCM              NaN   NaN          0.92        NaN          NaN\n",
      "RM               NaN   NaN           NaN       0.92         0.92\n",
      "RDM             0.93  0.97           NaN        NaN          NaN\n",
      "RWB              NaN  0.98           NaN        NaN          NaN\n",
      "RCB              NaN  0.92           NaN        NaN          NaN\n",
      "RB              0.92   NaN           NaN        NaN          NaN\n",
      "ShortPassing     NaN   NaN           NaN        NaN          NaN\n",
      "Dribbling        NaN   NaN           NaN        NaN          NaN\n",
      "BallControl      NaN   NaN           NaN        NaN          NaN\n",
      "Interceptions   0.94   NaN           NaN        NaN          NaN\n",
      "StandingTackle  0.94   NaN           NaN        NaN          NaN\n",
      "SlidingTackle   0.92   NaN           NaN        NaN          NaN \n",
      "\n",
      "                Interceptions  StandingTackle\n",
      "Special                   NaN             NaN\n",
      "ST                        NaN             NaN\n",
      "RS                        NaN             NaN\n",
      "RF                        NaN             NaN\n",
      "RW                        NaN             NaN\n",
      "RAM                       NaN             NaN\n",
      "RCM                       NaN             NaN\n",
      "RM                        NaN             NaN\n",
      "RDM                       NaN             NaN\n",
      "RWB                       NaN             NaN\n",
      "RCB                      0.94            0.94\n",
      "RB                        NaN             NaN\n",
      "ShortPassing              NaN             NaN\n",
      "Dribbling                 NaN             NaN\n",
      "BallControl               NaN             NaN\n",
      "Interceptions             NaN            0.93\n",
      "StandingTackle           0.93             NaN\n",
      "SlidingTackle            0.91            0.97 \n",
      "\n",
      "                SlidingTackle\n",
      "Special                   NaN\n",
      "ST                        NaN\n",
      "RS                        NaN\n",
      "RF                        NaN\n",
      "RW                        NaN\n",
      "RAM                       NaN\n",
      "RCM                       NaN\n",
      "RM                        NaN\n",
      "RDM                       NaN\n",
      "RWB                       NaN\n",
      "RCB                      0.92\n",
      "RB                        NaN\n",
      "ShortPassing              NaN\n",
      "Dribbling                 NaN\n",
      "BallControl               NaN\n",
      "Interceptions            0.91\n",
      "StandingTackle           0.97\n",
      "SlidingTackle             NaN \n",
      "\n",
      "\n"
     ]
    }
   ],
   "source": [
    "# Show correclation > 0.9 or < -0.9\n",
    "show_high_correlation(corr_df, threshold=0.9, max_cols=0)"
   ]
  },
  {
   "cell_type": "code",
   "execution_count": 145,
   "metadata": {},
   "outputs": [
    {
     "name": "stdout",
     "output_type": "stream",
     "text": [
      "X:  (3563, 44)\n"
     ]
    }
   ],
   "source": [
    "# Remove features with high correlation\n",
    "# ['Special', 'RCM']\n",
    "# [ 'ST', 'RS' ] [ 'ST', 'RF' ] [ 'ST', 'RW' ] [ 'ST', 'RAM' ] \n",
    "# [ 'RS', 'ST' ] [ 'RS', 'RF' ] [ 'RS', 'RW' ] [ 'ST', 'RAM' ] \n",
    "# ['RM', 'Dribbling'] ['RM', 'BallControl']\n",
    "# [ 'RDM', 'RWB' ] [ 'RDM', 'RCB' ] [ 'RDM', 'RB' ] \n",
    "# [ 'Interceptions', 'RCB' ] [ 'Interceptions', 'StandingTackle' ] [ 'Interceptions', 'SlidingTackle' ] \n",
    "drop_features = [ 'RCM', 'RS', 'RF', 'RW', 'RAM', \n",
    "                  'Dribbling', 'BallControl', 'RWB', 'RCB', 'RB', \n",
    "                  'StandingTackle', 'SlidingTackle']\n",
    "\n",
    "X = X.drop(drop_features, axis = 1)\n",
    "print('X: ', X.shape)"
   ]
  },
  {
   "cell_type": "code",
   "execution_count": 146,
   "metadata": {},
   "outputs": [],
   "source": [
    "# Compute correlation \n",
    "corr_df = compute_correlation(X)"
   ]
  },
  {
   "cell_type": "code",
   "execution_count": 147,
   "metadata": {},
   "outputs": [
    {
     "name": "stdout",
     "output_type": "stream",
     "text": [
      "high_corr_df:  (44, 44)\n",
      "\n"
     ]
    }
   ],
   "source": [
    "# Show correclation > 0.9 or < -0.9\n",
    "show_high_correlation(corr_df, threshold=0.9, max_cols=0)"
   ]
  },
  {
   "cell_type": "code",
   "execution_count": 148,
   "metadata": {},
   "outputs": [
    {
     "name": "stdout",
     "output_type": "stream",
     "text": [
      "high_corr_df:  (44, 44)\n",
      "               Overall  Value  Wage  Special    ST\n",
      "Overall            NaN    NaN   NaN      NaN   NaN\n",
      "Value              NaN    NaN  0.86      NaN   NaN\n",
      "Wage               NaN   0.86   NaN      NaN   NaN\n",
      "Special            NaN    NaN   NaN      NaN   NaN\n",
      "ST                 NaN    NaN   NaN      NaN   NaN\n",
      "RM                 NaN    NaN   NaN     0.88  0.90\n",
      "RDM                NaN    NaN   NaN      NaN   NaN\n",
      "Crossing           NaN    NaN   NaN      NaN   NaN\n",
      "Finishing          NaN    NaN   NaN      NaN  0.89\n",
      "ShortPassing       NaN    NaN   NaN     0.81   NaN\n",
      "Volleys            NaN    NaN   NaN      NaN  0.83\n",
      "LongPassing        NaN    NaN   NaN      NaN   NaN\n",
      "Acceleration       NaN    NaN   NaN      NaN   NaN\n",
      "SprintSpeed        NaN    NaN   NaN      NaN   NaN\n",
      "Reactions         0.85    NaN   NaN      NaN   NaN\n",
      "ShotPower          NaN    NaN   NaN      NaN  0.83\n",
      "LongShots          NaN    NaN   NaN      NaN  0.86\n",
      "Interceptions      NaN    NaN   NaN      NaN   NaN\n",
      "Positioning        NaN    NaN   NaN      NaN  0.89\n",
      "Vision             NaN    NaN   NaN      NaN   NaN\n",
      "Marking            NaN    NaN   NaN      NaN   NaN \n",
      "\n",
      "                 RM   RDM  Crossing  Finishing  ShortPassing\n",
      "Overall         NaN   NaN       NaN        NaN           NaN\n",
      "Value           NaN   NaN       NaN        NaN           NaN\n",
      "Wage            NaN   NaN       NaN        NaN           NaN\n",
      "Special        0.88   NaN       NaN        NaN          0.81\n",
      "ST             0.90   NaN       NaN       0.89           NaN\n",
      "RM              NaN   NaN      0.81        NaN           NaN\n",
      "RDM             NaN   NaN       NaN        NaN           NaN\n",
      "Crossing       0.81   NaN       NaN        NaN           NaN\n",
      "Finishing       NaN   NaN       NaN        NaN           NaN\n",
      "ShortPassing    NaN   NaN       NaN        NaN           NaN\n",
      "Volleys         NaN   NaN       NaN       0.82           NaN\n",
      "LongPassing     NaN   NaN       NaN        NaN          0.84\n",
      "Acceleration    NaN   NaN       NaN        NaN           NaN\n",
      "SprintSpeed     NaN   NaN       NaN        NaN           NaN\n",
      "Reactions       NaN   NaN       NaN        NaN           NaN\n",
      "ShotPower       NaN   NaN       NaN        NaN           NaN\n",
      "LongShots       NaN   NaN       NaN       0.81           NaN\n",
      "Interceptions   NaN  0.89       NaN        NaN           NaN\n",
      "Positioning    0.84   NaN       NaN       0.82           NaN\n",
      "Vision         0.85   NaN       NaN        NaN           NaN\n",
      "Marking         NaN  0.82       NaN        NaN           NaN \n",
      "\n",
      "               Volleys  LongPassing  Acceleration  SprintSpeed  Reactions\n",
      "Overall            NaN          NaN           NaN          NaN       0.85\n",
      "Value              NaN          NaN           NaN          NaN        NaN\n",
      "Wage               NaN          NaN           NaN          NaN        NaN\n",
      "Special            NaN          NaN           NaN          NaN        NaN\n",
      "ST                0.83          NaN           NaN          NaN        NaN\n",
      "RM                 NaN          NaN           NaN          NaN        NaN\n",
      "RDM                NaN          NaN           NaN          NaN        NaN\n",
      "Crossing           NaN          NaN           NaN          NaN        NaN\n",
      "Finishing         0.82          NaN           NaN          NaN        NaN\n",
      "ShortPassing       NaN         0.84           NaN          NaN        NaN\n",
      "Volleys            NaN          NaN           NaN          NaN        NaN\n",
      "LongPassing        NaN          NaN           NaN          NaN        NaN\n",
      "Acceleration       NaN          NaN           NaN         0.88        NaN\n",
      "SprintSpeed        NaN          NaN          0.88          NaN        NaN\n",
      "Reactions          NaN          NaN           NaN          NaN        NaN\n",
      "ShotPower          NaN          NaN           NaN          NaN        NaN\n",
      "LongShots          NaN          NaN           NaN          NaN        NaN\n",
      "Interceptions      NaN          NaN           NaN          NaN        NaN\n",
      "Positioning        NaN          NaN           NaN          NaN        NaN\n",
      "Vision             NaN          NaN           NaN          NaN        NaN\n",
      "Marking            NaN          NaN           NaN          NaN        NaN \n",
      "\n",
      "               ShotPower  LongShots  Interceptions  Positioning  Vision\n",
      "Overall              NaN        NaN            NaN          NaN     NaN\n",
      "Value                NaN        NaN            NaN          NaN     NaN\n",
      "Wage                 NaN        NaN            NaN          NaN     NaN\n",
      "Special              NaN        NaN            NaN          NaN     NaN\n",
      "ST                  0.83       0.86            NaN         0.89     NaN\n",
      "RM                   NaN        NaN            NaN         0.84    0.85\n",
      "RDM                  NaN        NaN           0.89          NaN     NaN\n",
      "Crossing             NaN        NaN            NaN          NaN     NaN\n",
      "Finishing            NaN       0.81            NaN         0.82     NaN\n",
      "ShortPassing         NaN        NaN            NaN          NaN     NaN\n",
      "Volleys              NaN        NaN            NaN          NaN     NaN\n",
      "LongPassing          NaN        NaN            NaN          NaN     NaN\n",
      "Acceleration         NaN        NaN            NaN          NaN     NaN\n",
      "SprintSpeed          NaN        NaN            NaN          NaN     NaN\n",
      "Reactions            NaN        NaN            NaN          NaN     NaN\n",
      "ShotPower            NaN       0.82            NaN          NaN     NaN\n",
      "LongShots           0.82        NaN            NaN          NaN     NaN\n",
      "Interceptions        NaN        NaN            NaN          NaN     NaN\n",
      "Positioning          NaN        NaN            NaN          NaN     NaN\n",
      "Vision               NaN        NaN            NaN          NaN     NaN\n",
      "Marking              NaN        NaN           0.85          NaN     NaN \n",
      "\n",
      "               Marking\n",
      "Overall            NaN\n",
      "Value              NaN\n",
      "Wage               NaN\n",
      "Special            NaN\n",
      "ST                 NaN\n",
      "RM                 NaN\n",
      "RDM               0.82\n",
      "Crossing           NaN\n",
      "Finishing          NaN\n",
      "ShortPassing       NaN\n",
      "Volleys            NaN\n",
      "LongPassing        NaN\n",
      "Acceleration       NaN\n",
      "SprintSpeed        NaN\n",
      "Reactions          NaN\n",
      "ShotPower          NaN\n",
      "LongShots          NaN\n",
      "Interceptions     0.85\n",
      "Positioning        NaN\n",
      "Vision             NaN\n",
      "Marking            NaN \n",
      "\n",
      "\n"
     ]
    }
   ],
   "source": [
    "# Show correclation > 0.8 or < -0.8\n",
    "show_high_correlation(corr_df, threshold=0.8, max_cols=0)"
   ]
  },
  {
   "cell_type": "code",
   "execution_count": 149,
   "metadata": {},
   "outputs": [
    {
     "name": "stdout",
     "output_type": "stream",
     "text": [
      "X:  (3563, 32)\n"
     ]
    }
   ],
   "source": [
    "# Remove features with high correlation\n",
    "# ['Overall', 'Reactions']\n",
    "# ['Value', 'Wage']\n",
    "# [ 'Special', 'RM'] [ 'Special', 'ShortPassing' ]\n",
    "# [ 'ST', 'RM'] [ 'ST', 'Finishing' ] [ 'ST', 'Volleys'], \n",
    "# ['ST', 'ShotPower'], ['ST', 'LongShots'], ['ST', 'Positioning']\n",
    "# [ 'RDM', 'Interceptions'], ['RDM', 'Marking'], \n",
    "# [ 'Acceleration', 'SprintSpeed']\n",
    "\n",
    "drop_features = [ 'Reactions', 'Value', 'RM', 'ShortPassing', \n",
    "                  'Finishing', 'Volleys', 'ShotPower', 'LongShots', 'Positioning',\n",
    "                  'Interceptions', 'Marking', 'SprintSpeed']\n",
    "\n",
    "X = X.drop(drop_features, axis = 1)\n",
    "print('X: ', X.shape)"
   ]
  },
  {
   "cell_type": "code",
   "execution_count": 150,
   "metadata": {},
   "outputs": [],
   "source": [
    "# Compute correlation \n",
    "corr_df = compute_correlation(X)"
   ]
  },
  {
   "cell_type": "code",
   "execution_count": 151,
   "metadata": {},
   "outputs": [
    {
     "name": "stdout",
     "output_type": "stream",
     "text": [
      "high_corr_df:  (32, 32)\n",
      "\n"
     ]
    }
   ],
   "source": [
    "# Show correclation > 0.8 or < -0.8\n",
    "show_high_correlation(corr_df, threshold=0.8, max_cols=0)"
   ]
  },
  {
   "cell_type": "code",
   "execution_count": 152,
   "metadata": {},
   "outputs": [],
   "source": [
    "# Since no more feature in high correlation, so we stop and save data"
   ]
  },
  {
   "cell_type": "markdown",
   "metadata": {},
   "source": [
    "# Step 3. Export features reduced data"
   ]
  },
  {
   "cell_type": "code",
   "execution_count": 153,
   "metadata": {},
   "outputs": [
    {
     "name": "stdout",
     "output_type": "stream",
     "text": [
      "Save features reduced sample data (3563, 33) to file: fifa19_features_reduced_data.csv\n"
     ]
    }
   ],
   "source": [
    "# Combine features with result\n",
    "sample_data = pd.concat([X, y], axis = 1)\n",
    "\n",
    "out_file = 'fifa19_features_reduced_data.csv'\n",
    "print('Save features reduced sample data {} to file: {}'.format(sample_data.shape, out_file))\n",
    "export_csv = sample_data.to_csv (out_file, index = None, header=True)\n",
    "if export_csv is not None:\n",
    "    print(export_csv)"
   ]
  },
  {
   "cell_type": "code",
   "execution_count": null,
   "metadata": {},
   "outputs": [],
   "source": []
  }
 ],
 "metadata": {
  "kernelspec": {
   "display_name": "Python 3",
   "language": "python",
   "name": "python3"
  },
  "language_info": {
   "codemirror_mode": {
    "name": "ipython",
    "version": 3
   },
   "file_extension": ".py",
   "mimetype": "text/x-python",
   "name": "python",
   "nbconvert_exporter": "python",
   "pygments_lexer": "ipython3",
   "version": "3.7.3"
  }
 },
 "nbformat": 4,
 "nbformat_minor": 2
}
