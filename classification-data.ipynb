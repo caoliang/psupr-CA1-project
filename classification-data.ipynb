{
 "cells": [
  {
   "cell_type": "markdown",
   "metadata": {},
   "source": [
    "# Classification - Determine International Rating "
   ]
  },
  {
   "cell_type": "code",
   "execution_count": 1,
   "metadata": {},
   "outputs": [],
   "source": [
    "import numpy as np\n",
    "import pandas as pd\n",
    "import matplotlib.pyplot as plt\n",
    "import warnings\n",
    "import math\n",
    "import re\n",
    "warnings.filterwarnings('ignore')\n",
    "%matplotlib inline"
   ]
  },
  {
   "cell_type": "code",
   "execution_count": 2,
   "metadata": {},
   "outputs": [
    {
     "name": "stdout",
     "output_type": "stream",
     "text": [
      "sample_data:  (3000, 89)\n"
     ]
    }
   ],
   "source": [
    "# Read original data\n",
    "sample_data = pd.read_csv('fifa19_data.csv', encoding='utf-8')\n",
    "print('sample_data: ', sample_data.shape)\n",
    "#print(sample_data.head(n=1))"
   ]
  },
  {
   "cell_type": "code",
   "execution_count": 3,
   "metadata": {},
   "outputs": [
    {
     "name": "stdout",
     "output_type": "stream",
     "text": [
      "sample_data:  (2991, 89)\n"
     ]
    }
   ],
   "source": [
    "# 1. Pre-processing data\n",
    "# 1.1 Remove empty value data\n",
    "\n",
    "# Remove data without 'International Reputation'\n",
    "sample_data.drop(sample_data[sample_data['International Reputation'] != sample_data['International Reputation']].index, \n",
    "                 inplace=True)\n",
    "print('sample_data: ', sample_data.shape)"
   ]
  },
  {
   "cell_type": "code",
   "execution_count": 4,
   "metadata": {},
   "outputs": [
    {
     "name": "stdout",
     "output_type": "stream",
     "text": [
      "after removing index columns, sample_data:  (2991, 87)\n",
      "after removing unused features, sample data:  (2991, 79)\n"
     ]
    }
   ],
   "source": [
    "# 1.2 Remove unused features\n",
    "\n",
    "# Remove index columns\n",
    "cols = [0, 1]\n",
    "sample_data = sample_data.drop(sample_data.columns[cols], axis=1)\n",
    "print('after removing index columns, sample_data: ', sample_data.shape)\n",
    "#print(sample_data.head(n=1))\n",
    "\n",
    "# Remove unsed features\n",
    "removed_features = [ 'Photo', 'Flag', 'Club Logo', 'Real Face', 'Jersey Number', \n",
    "                    'Joined', 'Loaned From', 'Contract Valid Until' ]\n",
    "sample_data = sample_data.drop(removed_features, axis = 1)\n",
    "print('after removing unused features, sample data: ', sample_data.shape)\n",
    "#print(sample_data.head(n=1))"
   ]
  },
  {
   "cell_type": "code",
   "execution_count": 5,
   "metadata": {},
   "outputs": [],
   "source": [
    "# Define function to count values with descending order\n",
    "def count_values_descending(data_series):\n",
    "    return data_series.value_counts(sort=True, ascending=False)\n",
    "\n",
    "# Define function to retrieve number of empty empty value \n",
    "def count_nan_values(count_values_data):\n",
    "    if 'nan' in count_values_data:\n",
    "        return count_values_data['nan']\n",
    "            \n",
    "    return 0\n",
    "\n",
    "# Show count values\n",
    "def show_count_values(data_series, rows=None):\n",
    "    count_data = count_values_descending(data_series)\n",
    "    if rows is None:\n",
    "        print(count_data)\n",
    "    else:\n",
    "        print(count_data.head(rows))\n",
    "\n",
    "# Define function to fill nan value with maximum number of values\n",
    "# or using specified value to fill; Also check threshold to avoid\n",
    "# too many nan values\n",
    "def fill_nan_with_max_freq_value(data_series, threshold=0.2, default_value=None, \n",
    "                                 show_count_values=False, count_values_rows=3, in_place=True):\n",
    "    data_size = len(data_series)\n",
    "    #print(\"data_size: \", data_size)\n",
    "    \n",
    "    # Replace inf and -inf to nan\n",
    "    data_series.replace([math.inf, -math.inf], math.nan)\n",
    "    \n",
    "    count_data = count_values_descending(data_series)\n",
    "    if show_count_values:\n",
    "        print(count_data.head(count_values_rows))\n",
    "    \n",
    "    nan_count = count_nan_values(count_data)\n",
    "    print(\"NaN count: \", nan_count)\n",
    "\n",
    "    if nan_count > 0:\n",
    "        nan_freq = nan_count / data_size\n",
    "        if nan_freq >= threshold:\n",
    "            print(\"Warning: Not filling Nan since NaN freq: {}% >= max threshold: {}%\", \n",
    "                  nan_freq * 100, threshold * 100)\n",
    "        else:     \n",
    "            fill_value = None\n",
    "            if default_value is not None:\n",
    "                fill_value = default_value\n",
    "            else:\n",
    "                fill_value = count_data.index[0]\n",
    "                # Avoid to fill in 'nan' value if maximum number of values are nan values\n",
    "                if fill_value == 'nan':\n",
    "                    fill_value = count_data.index[1]\n",
    "\n",
    "            print(\"fill '{}' to nan\".format(fill_value))\n",
    "            data_series.fillna(fill_value, inplace=in_place)\n",
    "        \n",
    "    print(\"   \")\n",
    "    \n",
    "    return data_series"
   ]
  },
  {
   "cell_type": "code",
   "execution_count": 6,
   "metadata": {},
   "outputs": [
    {
     "name": "stdout",
     "output_type": "stream",
     "text": [
      "NaN count:  0\n",
      "   \n",
      "  Nationality  Nationality_code\n",
      "0   Argentina                 5\n",
      "1    Slovenia               101\n",
      "2     England                38\n",
      "---------\n",
      "NaN count:  0\n",
      "   \n",
      "                Club  Club_code\n",
      "0       FC Barcelona        209\n",
      "1    Atlético Madrid         61\n",
      "2  Tottenham Hotspur        576\n",
      "---------\n",
      "NaN count:  0\n",
      "   \n",
      "  Preferred Foot  Foot_code\n",
      "0           Left          0\n",
      "1          Right          1\n",
      "2          Right          1\n",
      "---------\n",
      "NaN count:  0\n",
      "   \n",
      "  Body Type  Body_type_code\n",
      "0     Messi               1\n",
      "1    Normal               2\n",
      "2    Normal               2\n",
      "---------\n",
      "NaN count:  0\n",
      "   \n",
      "  Position  Position_code\n",
      "0       RF             21\n",
      "1       GK              5\n",
      "2       ST             26\n",
      "---------\n"
     ]
    }
   ],
   "source": [
    "# 1.3 Convert feature values\n",
    "\n",
    "from sklearn.preprocessing import LabelEncoder\n",
    "cat_encoder = LabelEncoder()\n",
    "\n",
    "# Convert 'Nationality' to category code\n",
    "fill_nan_with_max_freq_value(sample_data['Nationality'], default_value='NA')\n",
    "sample_data['Nationality_code'] = cat_encoder.fit_transform(sample_data['Nationality'])\n",
    "print(sample_data[['Nationality', 'Nationality_code']].head(3))\n",
    "print(\"---------\")\n",
    "\n",
    "# Convert 'Club' to club code\n",
    "fill_nan_with_max_freq_value(sample_data['Club'], default_value='NA')\n",
    "sample_data['Club'] = sample_data['Club'].astype(str)\n",
    "sample_data['Club_code'] = cat_encoder.fit_transform(sample_data['Club'])\n",
    "print(sample_data[['Club', 'Club_code']].head(3))\n",
    "print(\"---------\")\n",
    "\n",
    "# Convert 'Preferred Foot' to 'Foot_code' code\n",
    "fill_nan_with_max_freq_value(sample_data['Preferred Foot'])\n",
    "sample_data['Preferred Foot'] = sample_data['Preferred Foot'].astype(str)\n",
    "sample_data['Foot_code'] = cat_encoder.fit_transform(sample_data['Preferred Foot'])\n",
    "print(sample_data[['Preferred Foot', 'Foot_code']].head(3))\n",
    "print(\"---------\")\n",
    "\n",
    "# Convert 'Body Type' to 'Body_type_code' code\n",
    "fill_nan_with_max_freq_value(sample_data['Body Type'])\n",
    "sample_data['Body Type'] = sample_data['Body Type'].astype(str)\n",
    "sample_data['Body_type_code'] = cat_encoder.fit_transform(sample_data['Body Type'])\n",
    "print(sample_data[['Body Type', 'Body_type_code']].head(3))\n",
    "print(\"---------\")\n",
    "\n",
    "# Convert 'Position' to 'Position_code' code\n",
    "fill_nan_with_max_freq_value(sample_data['Position'])\n",
    "sample_data['Position'] = sample_data['Position'].astype(str)\n",
    "sample_data['Position_code'] = cat_encoder.fit_transform(sample_data['Position'])\n",
    "print(sample_data[['Position', 'Position_code']].head(3))\n",
    "print(\"---------\")"
   ]
  },
  {
   "cell_type": "code",
   "execution_count": 7,
   "metadata": {},
   "outputs": [
    {
     "name": "stdout",
     "output_type": "stream",
     "text": [
      "After change, data shape:  (2991, 79)\n"
     ]
    }
   ],
   "source": [
    "# Remove features which have been represented by other featers\n",
    "#nationality_data = sample_data['Nationality', 'Nationality_code']\n",
    "#club_data = sample_data['Club', 'Club_code']\n",
    "#foot_data = sample_data['Preferred Foot', 'Foot_code']\n",
    "#body_data = sample_data['Body Type', 'Body_type_code']\n",
    "#pos_data = sample_data['Position', 'Position_code']\n",
    "\n",
    "converted_features = ['Nationality', 'Club', 'Preferred Foot', 'Body Type', 'Position']\n",
    "sample_data = sample_data.drop(converted_features, axis = 1, errors='ignore')\n",
    "print(\"After change, data shape: \", sample_data.shape)"
   ]
  },
  {
   "cell_type": "code",
   "execution_count": 8,
   "metadata": {},
   "outputs": [
    {
     "name": "stdout",
     "output_type": "stream",
     "text": [
      "attack_work_rate_mean:  2\n",
      "2    2041\n",
      "3     814\n",
      "1     136\n",
      "Name: Attack_work_rate, dtype: int64\n",
      " \n",
      "Defence_work_rate_mean:  2\n",
      "2    2210\n",
      "3     524\n",
      "1     257\n",
      "Name: Defence_work_rate, dtype: int64\n",
      " \n",
      "   Attack_work_rate  Defence_work_rate       Work Rate\n",
      "0                 2                  2  Medium/ Medium\n",
      "1                 2                  2  Medium/ Medium\n",
      "2                 3                  3      High/ High\n"
     ]
    }
   ],
   "source": [
    "# Extract 'Work Rate' level value\n",
    "def get_attack_work_rate(value):\n",
    "    return get_work_rate('attack work rate', value)\n",
    "\n",
    "def get_defence_work_rate(value):\n",
    "    return get_work_rate('defence work rate', value)\n",
    "\n",
    "def get_work_rate(rate_type, value):\n",
    "    if not isinstance(value, str):\n",
    "        #print('Invalid value: {}'.format(str(value)))\n",
    "        return 0\n",
    "    \n",
    "    if value == '' or value.strip() == '':\n",
    "        return 0\n",
    "    \n",
    "    level_values = value.split(\"/\")\n",
    "    level_label = ''\n",
    "    if len(level_values) == 2:\n",
    "        if rate_type == 'attack work rate':\n",
    "            level_label = level_values[0].strip().lower()\n",
    "        elif rate_type == 'defence work rate':\n",
    "            level_label = level_values[1].strip().lower()\n",
    "        \n",
    "        if level_label == 'high':\n",
    "            return 3\n",
    "        if level_label == 'medium':\n",
    "            return 2\n",
    "        if level_label == 'low':\n",
    "            return 1\n",
    "\n",
    "    return 0\n",
    "\n",
    "# Convert 'Work Rate' to 'Attack_work_rate' and 'Defence_work_rate'\n",
    "sample_data['Attack_work_rate'] = sample_data['Work Rate'].map(get_attack_work_rate)\n",
    "attack_work_rate_mean = int(sample_data['Attack_work_rate'].mean())\n",
    "print('attack_work_rate_mean: ', attack_work_rate_mean)\n",
    "sample_data['Attack_work_rate'].replace(to_replace=0, value=attack_work_rate_mean, inplace=True)\n",
    "show_count_values(sample_data['Attack_work_rate'])\n",
    "print(\" \")\n",
    "\n",
    "sample_data['Defence_work_rate'] = sample_data['Work Rate'].map(get_defence_work_rate)\n",
    "defence_work_rate_mean = int(sample_data['Defence_work_rate'].mean())\n",
    "print('Defence_work_rate_mean: ', defence_work_rate_mean)\n",
    "sample_data['Defence_work_rate'].replace(to_replace=0, value=attack_work_rate_mean, inplace=True)\n",
    "show_count_values(sample_data['Defence_work_rate'])\n",
    "print(\" \")\n",
    "\n",
    "print(sample_data[['Attack_work_rate', 'Defence_work_rate', 'Work Rate']].head(n=3))"
   ]
  },
  {
   "cell_type": "code",
   "execution_count": 9,
   "metadata": {},
   "outputs": [
    {
     "name": "stdout",
     "output_type": "stream",
     "text": [
      "After change, data shape:  (2991, 80)\n"
     ]
    }
   ],
   "source": [
    "# Remove features which have been represented by other featers\n",
    "converted_features = ['Work Rate']\n",
    "sample_data = sample_data.drop(converted_features, axis = 1, errors='ignore')\n",
    "print(\"After change, data shape: \", sample_data.shape)"
   ]
  },
  {
   "cell_type": "code",
   "execution_count": 10,
   "metadata": {},
   "outputs": [
    {
     "name": "stdout",
     "output_type": "stream",
     "text": [
      "     Value  Market_value\n",
      "0  €110.5M     110500000\n",
      "1     €68M      68000000\n",
      "2   €83.5M      83500000\n",
      " \n",
      "    Wage  Wage_value\n",
      "0  €565K      565000\n",
      "1   €94K       94000\n",
      "2  €205K      205000\n"
     ]
    }
   ],
   "source": [
    "# Convert money string to float number\n",
    "def convert_money_value(value):\n",
    "    if isinstance(value, str):\n",
    "        if value == '' or value.strip() == '':\n",
    "            return 0\n",
    "        \n",
    "        if value[0] == '€':\n",
    "            value = value[1:]\n",
    "            \n",
    "        if value[-1] == 'K':\n",
    "            return int(float(value[:-1]) * 1000)\n",
    "        \n",
    "        if value[-1] == 'M':\n",
    "            return int(float(value[:-1]) * 1000000)\n",
    "        \n",
    "        return int(value)\n",
    "    else:\n",
    "        return int(value)\n",
    "\n",
    "# Convert 'Value' to market value number\n",
    "sample_data['Market_value'] = sample_data['Value'].map(convert_money_value)\n",
    "print(sample_data[['Value', 'Market_value']].head(n=3))\n",
    "print(\" \")\n",
    "\n",
    "# Convert 'Wage' to market value number\n",
    "sample_data['Wage_value'] = sample_data['Wage'].map(convert_money_value)\n",
    "print(sample_data[['Wage', 'Wage_value']].head(n=3))"
   ]
  },
  {
   "cell_type": "code",
   "execution_count": 11,
   "metadata": {},
   "outputs": [
    {
     "name": "stdout",
     "output_type": "stream",
     "text": [
      "After change, data shape:  (2991, 80)\n"
     ]
    }
   ],
   "source": [
    "# Remove features which have been represented by other featers\n",
    "converted_features = ['Value', 'Wage']\n",
    "sample_data = sample_data.drop(converted_features, axis = 1, errors='ignore')\n",
    "print(\"After change, data shape: \", sample_data.shape)"
   ]
  },
  {
   "cell_type": "code",
   "execution_count": 12,
   "metadata": {},
   "outputs": [
    {
     "name": "stdout",
     "output_type": "stream",
     "text": [
      "height_mean:  71\n",
      " \n",
      "   Height_value Height\n",
      "0            67    5'7\n",
      "1            74    6'2\n",
      "2            74    6'2\n",
      " \n"
     ]
    }
   ],
   "source": [
    "# Convert height\n",
    "def convert_height(value):\n",
    "    if not isinstance(value, str):\n",
    "        #print('Invalid value: {}'.format(str(value)))\n",
    "        return 0\n",
    "    \n",
    "    if value == '' or value.strip() == '':\n",
    "        return 0\n",
    "    \n",
    "    height_values = value.split(\"'\")\n",
    "    h_ft = 0\n",
    "    h_inch = 0\n",
    "    if len(height_values) == 2:\n",
    "        h_ft = int(height_values[0])\n",
    "        h_inch = int(height_values[1])\n",
    "    elif len(height_values) == 1:\n",
    "        h_ft = int(height_values[0])\n",
    "    \n",
    "    h_total = h_ft * 12 + h_inch\n",
    "    \n",
    "    return h_total\n",
    "\n",
    "# Convert 'Height' to Height value number\n",
    "sample_data['Height_value'] = sample_data['Height'].map(convert_height)\n",
    "height_mean = int(sample_data['Height_value'].mean())\n",
    "print('height_mean: ', height_mean)\n",
    "print(\" \")\n",
    "\n",
    "sample_data['Height_value'].replace(to_replace=0, value=height_mean, inplace=True)\n",
    "print(sample_data[['Height_value', 'Height']].head(n=3))\n",
    "print(\" \")"
   ]
  },
  {
   "cell_type": "code",
   "execution_count": 14,
   "metadata": {},
   "outputs": [
    {
     "name": "stdout",
     "output_type": "stream",
     "text": [
      "After change, data shape:  (2991, 80)\n"
     ]
    }
   ],
   "source": [
    "# Remove features which have been represented by other featers\n",
    "converted_features = ['Height']\n",
    "sample_data = sample_data.drop(converted_features, axis = 1, errors='ignore')\n",
    "print(\"After change, data shape: \", sample_data.shape)"
   ]
  },
  {
   "cell_type": "code",
   "execution_count": 15,
   "metadata": {},
   "outputs": [
    {
     "name": "stdout",
     "output_type": "stream",
     "text": [
      "weight_mean:  165\n",
      " \n",
      "   Weight_value  Weight\n",
      "0           159  159lbs\n",
      "1           192  192lbs\n",
      "2           196  196lbs\n",
      " \n"
     ]
    }
   ],
   "source": [
    "# Convert weight\n",
    "def convert_weight(value):\n",
    "    if not isinstance(value, str):\n",
    "        #print('Invalid value: {}'.format(str(value)))\n",
    "        return 0\n",
    "    \n",
    "    if value == '' or value.strip() == '':\n",
    "        return 0\n",
    "    \n",
    "    weight_value = int(value.replace('lbs', ''))\n",
    "        \n",
    "    return weight_value\n",
    "\n",
    "# Convert 'Weight' to Weight value number\n",
    "sample_data['Weight_value'] = sample_data['Weight'].map(convert_weight)\n",
    "weight_mean = int(sample_data['Weight_value'].mean())\n",
    "print('weight_mean: ', weight_mean)\n",
    "print(\" \")\n",
    "\n",
    "sample_data['Weight_value'].replace(to_replace=0, value=weight_mean, inplace=True)\n",
    "print(sample_data[['Weight_value', 'Weight']].head(n=3))\n",
    "print(\" \")"
   ]
  },
  {
   "cell_type": "code",
   "execution_count": 16,
   "metadata": {},
   "outputs": [
    {
     "name": "stdout",
     "output_type": "stream",
     "text": [
      "After change, data shape:  (2991, 80)\n"
     ]
    }
   ],
   "source": [
    "# Remove features which have been represented by other featers\n",
    "converted_features = ['Weight']\n",
    "sample_data = sample_data.drop(converted_features, axis = 1, errors='ignore')\n",
    "print(\"After change, data shape: \", sample_data.shape)"
   ]
  },
  {
   "cell_type": "code",
   "execution_count": 12,
   "metadata": {},
   "outputs": [
    {
     "name": "stdout",
     "output_type": "stream",
     "text": [
      "Position:  CAM\n",
      "mean:  52\n",
      "0    93\n",
      "1    52\n",
      "2    82\n",
      "Name: CAM, dtype: int64\n",
      " \n",
      "Position:  CB\n",
      "mean:  49\n",
      "0    47\n",
      "1    49\n",
      "2    60\n",
      "Name: CB, dtype: int64\n",
      " \n",
      "Position:  CDM\n",
      "mean:  50\n",
      "0    61\n",
      "1    50\n",
      "2    66\n",
      "Name: CDM, dtype: int64\n",
      " \n",
      "Position:  CF\n",
      "mean:  52\n",
      "0    93\n",
      "1    52\n",
      "2    84\n",
      "Name: CF, dtype: int64\n",
      " \n",
      "Position:  CM\n",
      "mean:  52\n",
      "0    84\n",
      "1    52\n",
      "2    79\n",
      "Name: CM, dtype: int64\n",
      " \n",
      "Position:  LAM\n",
      "mean:  52\n",
      "0    93\n",
      "1    52\n",
      "2    82\n",
      "Name: LAM, dtype: int64\n",
      " \n",
      "Position:  LB\n",
      "mean:  50\n",
      "0    59\n",
      "1    50\n",
      "2    62\n",
      "Name: LB, dtype: int64\n",
      " \n",
      "Position:  LCB\n",
      "mean:  49\n",
      "0    47\n",
      "1    49\n",
      "2    60\n",
      "Name: LCB, dtype: int64\n",
      " \n",
      "Position:  LCM\n",
      "mean:  52\n",
      "0    84\n",
      "1    52\n",
      "2    79\n",
      "Name: LCM, dtype: int64\n",
      " \n",
      "Position:  LDM\n",
      "mean:  50\n",
      "0    61\n",
      "1    50\n",
      "2    66\n",
      "Name: LDM, dtype: int64\n",
      " \n",
      "Position:  LF\n",
      "mean:  52\n",
      "0    93\n",
      "1    52\n",
      "2    84\n",
      "Name: LF, dtype: int64\n",
      " \n",
      "Position:  LM\n",
      "mean:  53\n",
      "0    91\n",
      "1    53\n",
      "2    81\n",
      "Name: LM, dtype: int64\n",
      " \n",
      "Position:  LS\n",
      "mean:  51\n",
      "0    88\n",
      "1    51\n",
      "2    86\n",
      "Name: LS, dtype: int64\n",
      " \n",
      "Position:  LW\n",
      "mean:  52\n",
      "0    92\n",
      "1    52\n",
      "2    82\n",
      "Name: LW, dtype: int64\n",
      " \n",
      "Position:  LWB\n",
      "mean:  51\n",
      "0    64\n",
      "1    51\n",
      "2    65\n",
      "Name: LWB, dtype: int64\n",
      " \n",
      "Position:  RAM\n",
      "mean:  52\n",
      "0    93\n",
      "1    52\n",
      "2    82\n",
      "Name: RAM, dtype: int64\n",
      " \n",
      "Position:  RB\n",
      "mean:  50\n",
      "0    59\n",
      "1    50\n",
      "2    62\n",
      "Name: RB, dtype: int64\n",
      " \n",
      "Position:  RCB\n",
      "mean:  49\n",
      "0    47\n",
      "1    49\n",
      "2    60\n",
      "Name: RCB, dtype: int64\n",
      " \n",
      "Position:  RCM\n",
      "mean:  52\n",
      "0    84\n",
      "1    52\n",
      "2    79\n",
      "Name: RCM, dtype: int64\n",
      " \n",
      "Position:  RDM\n",
      "mean:  50\n",
      "0    61\n",
      "1    50\n",
      "2    66\n",
      "Name: RDM, dtype: int64\n",
      " \n",
      "Position:  RF\n",
      "mean:  52\n",
      "0    93\n",
      "1    52\n",
      "2    84\n",
      "Name: RF, dtype: int64\n",
      " \n",
      "Position:  RM\n",
      "mean:  53\n",
      "0    91\n",
      "1    53\n",
      "2    81\n",
      "Name: RM, dtype: int64\n",
      " \n",
      "Position:  RS\n",
      "mean:  51\n",
      "0    88\n",
      "1    51\n",
      "2    86\n",
      "Name: RS, dtype: int64\n",
      " \n",
      "Position:  RW\n",
      "mean:  52\n",
      "0    92\n",
      "1    52\n",
      "2    82\n",
      "Name: RW, dtype: int64\n",
      " \n",
      "Position:  RWB\n",
      "mean:  51\n",
      "0    64\n",
      "1    51\n",
      "2    65\n",
      "Name: RWB, dtype: int64\n",
      " \n",
      "Position:  ST\n",
      "mean:  51\n",
      "0    88\n",
      "1    51\n",
      "2    86\n",
      "Name: ST, dtype: int64\n",
      " \n"
     ]
    }
   ],
   "source": [
    "# Convert position value to remove \"+<n>\" and convert to integer\n",
    "extra_pos_pattern = re.compile('\\\\+\\\\d+')\n",
    "\n",
    "def convert_position_value(position_value_str):\n",
    "    if not isinstance(position_value_str, str):\n",
    "        #print('Invalid value: {}'.format(str(value)))\n",
    "        return 0\n",
    "    \n",
    "    if position_value_str == '' or position_value_str.strip() == '':\n",
    "        return 0\n",
    "    \n",
    "    position_value = int(extra_pos_pattern.sub('', position_value_str))\n",
    "        \n",
    "    return position_value\n",
    "\n",
    "\n",
    "# Convert all value at position features\n",
    "position_feature_names = [ \"CAM\", \"CB\", \"CDM\", \"CF\", \"CM\", \"LAM\", \"LB\", \"LCB\", \n",
    "                           \"LCM\", \"LDM\", \"LF\", \"LM\", \"LS\", \"LW\", \"LWB\", \"RAM\", \n",
    "                           \"RB\", \"RCB\", \"RCM\", \"RDM\", \"RF\", \"RM\", \"RS\", \"RW\", \"RWB\", \"ST\"]\n",
    "for pos_name in position_feature_names:\n",
    "    print(\"Position: \", pos_name)\n",
    "    sample_data[pos_name] = sample_data[pos_name].map(convert_position_value)\n",
    "    pos_mean = int(sample_data[pos_name].mean())\n",
    "    print('mean: ', pos_mean)\n",
    "    sample_data[pos_name].replace(to_replace=0, value=pos_mean, inplace=True)\n",
    "    print(sample_data[pos_name].head(n=3))\n",
    "    print(\" \")"
   ]
  },
  {
   "cell_type": "code",
   "execution_count": 18,
   "metadata": {},
   "outputs": [],
   "source": [
    "# 1.4 Fill in missing data with average value\n",
    "\n",
    "# International Reputation, Weak Foot, Skill Moves\n",
    "sample_data['International Reputation'].fillna(int(sample_data['International Reputation'].mean()), inplace=True)\n",
    "sample_data['Weak Foot'].fillna(int(sample_data['Weak Foot'].mean()), inplace=True)\n",
    "sample_data['Skill Moves'].fillna(int(sample_data['Skill Moves'].mean()), inplace=True)"
   ]
  },
  {
   "cell_type": "code",
   "execution_count": 10,
   "metadata": {},
   "outputs": [],
   "source": []
  },
  {
   "cell_type": "code",
   "execution_count": null,
   "metadata": {},
   "outputs": [],
   "source": []
  }
 ],
 "metadata": {
  "kernelspec": {
   "display_name": "Python 3",
   "language": "python",
   "name": "python3"
  },
  "language_info": {
   "codemirror_mode": {
    "name": "ipython",
    "version": 3
   },
   "file_extension": ".py",
   "mimetype": "text/x-python",
   "name": "python",
   "nbconvert_exporter": "python",
   "pygments_lexer": "ipython3",
   "version": "3.7.3"
  }
 },
 "nbformat": 4,
 "nbformat_minor": 2
}
