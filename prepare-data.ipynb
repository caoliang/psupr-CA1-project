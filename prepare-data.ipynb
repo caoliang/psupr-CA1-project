{
 "cells": [
  {
   "cell_type": "code",
   "execution_count": 1,
   "metadata": {},
   "outputs": [],
   "source": [
    "# Pre-processing FIFA 2019 Data"
   ]
  },
  {
   "cell_type": "code",
   "execution_count": 2,
   "metadata": {},
   "outputs": [],
   "source": [
    "import random\n",
    "\n",
    "def count_lines_in_file(data_input_file):\n",
    "    line_num = 0\n",
    "    with open(data_input_file, 'r', encoding='utf-8') as infile:\n",
    "        line = infile.readline()\n",
    "        while line:\n",
    "            line_num += 1\n",
    "            # Read next line\n",
    "            line = infile.readline()\n",
    "\n",
    "    return line_num\n",
    "\n",
    "# Define function to extract records based on number of samples\n",
    "def filtered_by_sample_size(num_of_samples=3500, num_of_input_file=0, \n",
    "                            data_input_file=\"data.csv\",\n",
    "                            data_output_file=\"fifa_data.csv\"):\n",
    "    \n",
    "    if num_of_input_file == 0:\n",
    "        num_of_input_file = count_lines_in_file(data_input_file)\n",
    "        print(\"Total records: \", num_of_input_file)\n",
    "        \n",
    "    # Randomly choose records index\n",
    "    sample_index_list = random.sample(range(1, num_of_input_file), num_of_samples)\n",
    "\n",
    "    # Read and save data by sample index\n",
    "    line_num = 0\n",
    "    out_line_num = 0\n",
    "    with open(data_output_file, mode='w+', encoding='utf-8') as outfile:\n",
    "        with open(data_input_file, 'r', encoding='utf-8') as infile:\n",
    "            line = infile.readline()\n",
    "            while line:\n",
    "                line_num += 1\n",
    "                # Show progress\n",
    "                if line_num % 10000 == 0:\n",
    "                    print(\"Processing line number: \", line_num)\n",
    "\n",
    "                # Write title line (first line) or selected sample lines\n",
    "                if line_num == 1 or line_num in sample_index_list:\n",
    "                    out_line_num += 1\n",
    "                    outfile.write(line)\n",
    "\n",
    "                # Read next line\n",
    "                line = infile.readline()\n",
    "            \n",
    "    # Completed\n",
    "    print(\"Total input lines: \", line_num, \", total output lines: \", out_line_num)"
   ]
  },
  {
   "cell_type": "code",
   "execution_count": 3,
   "metadata": {},
   "outputs": [
    {
     "name": "stdout",
     "output_type": "stream",
     "text": [
      "Total records:  18208\n",
      "Processing line number:  10000\n",
      "Total input lines:  18208 , total output lines:  3001\n"
     ]
    }
   ],
   "source": [
    "# 2. Extract records based on sample size\n",
    "sample_size = 3000\n",
    "filtered_by_sample_size(num_of_samples=sample_size, data_output_file='fifa19_data.csv')"
   ]
  },
  {
   "cell_type": "code",
   "execution_count": 29,
   "metadata": {},
   "outputs": [],
   "source": []
  },
  {
   "cell_type": "code",
   "execution_count": null,
   "metadata": {},
   "outputs": [],
   "source": []
  }
 ],
 "metadata": {
  "kernelspec": {
   "display_name": "Python 3",
   "language": "python",
   "name": "python3"
  },
  "language_info": {
   "codemirror_mode": {
    "name": "ipython",
    "version": 3
   },
   "file_extension": ".py",
   "mimetype": "text/x-python",
   "name": "python",
   "nbconvert_exporter": "python",
   "pygments_lexer": "ipython3",
   "version": "3.7.3"
  }
 },
 "nbformat": 4,
 "nbformat_minor": 2
}
